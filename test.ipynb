{
 "cells": [
  {
   "cell_type": "code",
   "execution_count": 7,
   "metadata": {},
   "outputs": [],
   "source": [
    "import pytesseract\n",
    "import cv2"
   ]
  },
  {
   "cell_type": "code",
   "execution_count": 8,
   "metadata": {},
   "outputs": [],
   "source": [
    "def ocr(image):\n",
    "    custom_config = r'--oem 3 --psm 6 '\n",
    "    return pytesseract.image_to_string(image, config=custom_config)"
   ]
  },
  {
   "cell_type": "code",
   "execution_count": 9,
   "metadata": {},
   "outputs": [],
   "source": [
    "import gradio as gr"
   ]
  },
  {
   "cell_type": "code",
   "execution_count": 24,
   "metadata": {},
   "outputs": [],
   "source": [
    "demo = gr.Blocks()"
   ]
  },
  {
   "cell_type": "code",
   "execution_count": 25,
   "metadata": {},
   "outputs": [],
   "source": [
    "with demo:\n",
    "    gr.Markdown(\"# OCR Demo\")\n",
    "    with gr.Tabs():\n",
    "        with gr.TabItem(\"Examples\"):\n",
    "            with gr.Row():\n",
    "                rad = gr.components.Radio(\n",
    "                    ['Example 1', 'Example 2'], label='Select Video and wait till it appears!')\n",
    "                img1 = gr.components.Image()\n",
    "                web_bt1 = gr.Button('Submit')\n",
    "        with gr.TabItem(\"Upload\"):\n",
    "            with gr.Row():\n",
    "                img2 = gr.components.Image(source='upload')\n",
    "            web_bt2 = gr.Button('Submit')\n",
    "\n",
    "    def action(choice):\n",
    "        if choice == 'Example 1':\n",
    "            return 'test-images/receipt-1.jpeg'\n",
    "        elif choice == 'Example 2':\n",
    "            return 'test-images/receipt-2.jpeg'\n",
    "    rad.change(action, rad, img1)\n",
    "    op = gr.components.Textbox(label='Output')\n",
    "\n",
    "    def fn(video):\n",
    "        string = ocr(video)\n",
    "        return string\n",
    "\n",
    "    web_bt2.click(fn, inputs=[img2], outputs=op)\n",
    "    web_bt1.click(fn, inputs=[img1], outputs=op)\n"
   ]
  },
  {
   "cell_type": "code",
   "execution_count": 27,
   "metadata": {},
   "outputs": [
    {
     "name": "stdout",
     "output_type": "stream",
     "text": [
      "Running on local URL:  http://localhost:8083/\n",
      "\n",
      "To create a public link, set `share=True` in `launch()`.\n"
     ]
    }
   ],
   "source": [
    "try:\n",
    "    # demo.queue()\n",
    "    demo.launch(inline=False, server_name=\"0.0.0.0\",\n",
    "                server_port=8083, max_threads=100)\n",
    "except Exception as e:\n",
    "    print(e)\n",
    "    pass\n"
   ]
  },
  {
   "cell_type": "code",
   "execution_count": 23,
   "metadata": {},
   "outputs": [
    {
     "name": "stdout",
     "output_type": "stream",
     "text": [
      "Closing server running on port: 8082\n"
     ]
    }
   ],
   "source": [
    "demo.close()"
   ]
  },
  {
   "cell_type": "code",
   "execution_count": 17,
   "metadata": {},
   "outputs": [],
   "source": [
    "import pytesseract\n",
    "import cv2\n",
    "\n",
    "\n",
    "def ocr(image):\n",
    "    '''\n",
    "    Args:\n",
    "        image: PIL Image\n",
    "    Returns:\n",
    "        string: text in the image\n",
    "    '''\n",
    "    custom_config = r'--oem 1 --psm 3 '  # setting the OCR engine to LSTM and the page segmentation mode to single line\n",
    "    return pytesseract.image_to_string(image, config=custom_config)\n"
   ]
  },
  {
   "cell_type": "code",
   "execution_count": 12,
   "metadata": {},
   "outputs": [],
   "source": [
    "img = cv2.imread('test-images/receipt-1.jpeg')"
   ]
  },
  {
   "cell_type": "code",
   "execution_count": 18,
   "metadata": {},
   "outputs": [
    {
     "data": {
      "text/plain": [
       "'Walmart > 22\\n\\nSave money. Live better.\\n\\n904-721-4941 Mgr:MIKE BURKES\\n9890 HUTCHINSON PARK DR\\nJACKSONVILLE FL 32225\\nST# 01444 OP# 009050 TE# 50 TR# 22220\\n\\nSEAGRAMS 007297900443 F . X\\nSUBTOTAL eo\\n\\nBNLS CHOPS 022635000403 F 4.03 0\\nSUBTOTAL 6.63\\n\\nPLUG IN OIL 081621202674 14.94 X\\nSUBTOTAL 21.57\\n\\nITCH CREAM 036373644700 4.97 N\\nSUBTOTAL 26.54\\n\\nOB FLOSS BAG 006830568631 3.84 X\\nSUBTOTAL 30.38\\nTAX 1 7.000 % 1.50\\nTOTAL 31.88\\nWMP VISA TEND 31.88\\n\\nWALMART PAY\\nACCOUNT # HrER KRER RREX 7040\\nXREF # 61302185352\\nAPPROVAL # 080801\\nTRANS ID - 309312763793185\\nVALIDATION - L7CQ\\n*NO SIGNATURE REQUIRED\\nTERMINAL # SC012256\\n11/08/19 16:13:00\\nCHANGE DUE 0.00\\n# ITEMS SOLD 5\\nTC# 3514 2175 2792 4940 119\\n\\nLow Prices You Can Trust. Every Day.\\n\\n11/08/19 16:13:00\\n\\nEE\\n\\n'"
      ]
     },
     "execution_count": 18,
     "metadata": {},
     "output_type": "execute_result"
    }
   ],
   "source": [
    "ocr(img)"
   ]
  },
  {
   "cell_type": "code",
   "execution_count": null,
   "metadata": {},
   "outputs": [],
   "source": []
  }
 ],
 "metadata": {
  "kernelspec": {
   "display_name": "Python 3.9.13 ('tf')",
   "language": "python",
   "name": "python3"
  },
  "language_info": {
   "codemirror_mode": {
    "name": "ipython",
    "version": 3
   },
   "file_extension": ".py",
   "mimetype": "text/x-python",
   "name": "python",
   "nbconvert_exporter": "python",
   "pygments_lexer": "ipython3",
   "version": "3.9.13"
  },
  "orig_nbformat": 4,
  "vscode": {
   "interpreter": {
    "hash": "64a1f6578a5146c7e09b91587d6d6ce7db0300aa6841235dfb64e80acde48245"
   }
  }
 },
 "nbformat": 4,
 "nbformat_minor": 2
}
