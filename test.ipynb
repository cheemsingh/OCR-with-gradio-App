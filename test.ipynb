{
 "cells": [
  {
   "cell_type": "code",
   "execution_count": 7,
   "metadata": {},
   "outputs": [],
   "source": [
    "import pytesseract\n",
    "import cv2"
   ]
  },
  {
   "cell_type": "code",
   "execution_count": 8,
   "metadata": {},
   "outputs": [],
   "source": [
    "def ocr(image):\n",
    "    custom_config = r'--oem 3 --psm 6 '\n",
    "    return pytesseract.image_to_string(image, config=custom_config)"
   ]
  },
  {
   "cell_type": "code",
   "execution_count": 9,
   "metadata": {},
   "outputs": [],
   "source": [
    "import gradio as gr"
   ]
  },
  {
   "cell_type": "code",
   "execution_count": 24,
   "metadata": {},
   "outputs": [],
   "source": [
    "demo = gr.Blocks()"
   ]
  },
  {
   "cell_type": "code",
   "execution_count": 25,
   "metadata": {},
   "outputs": [],
   "source": [
    "with demo:\n",
    "    gr.Markdown(\"# OCR Demo\")\n",
    "    with gr.Tabs():\n",
    "        with gr.TabItem(\"Examples\"):\n",
    "            with gr.Row():\n",
    "                rad = gr.components.Radio(\n",
    "                    ['Example 1', 'Example 2'], label='Select Video and wait till it appears!')\n",
    "                img1 = gr.components.Image()\n",
    "                web_bt1 = gr.Button('Submit')\n",
    "        with gr.TabItem(\"Upload\"):\n",
    "            with gr.Row():\n",
    "                img2 = gr.components.Image(source='upload')\n",
    "            web_bt2 = gr.Button('Submit')\n",
    "\n",
    "    def action(choice):\n",
    "        if choice == 'Example 1':\n",
    "            return 'test-images/receipt-1.jpeg'\n",
    "        elif choice == 'Example 2':\n",
    "            return 'test-images/receipt-2.jpeg'\n",
    "    rad.change(action, rad, img1)\n",
    "    op = gr.components.Textbox(label='Output')\n",
    "\n",
    "    def fn(video):\n",
    "        string = ocr(video)\n",
    "        return string\n",
    "\n",
    "    web_bt2.click(fn, inputs=[img2], outputs=op)\n",
    "    web_bt1.click(fn, inputs=[img1], outputs=op)\n"
   ]
  },
  {
   "cell_type": "code",
   "execution_count": 27,
   "metadata": {},
   "outputs": [
    {
     "name": "stdout",
     "output_type": "stream",
     "text": [
      "Running on local URL:  http://localhost:8083/\n",
      "\n",
      "To create a public link, set `share=True` in `launch()`.\n"
     ]
    }
   ],
   "source": [
    "try:\n",
    "    # demo.queue()\n",
    "    demo.launch(inline=False, server_name=\"0.0.0.0\",\n",
    "                server_port=8083, max_threads=100)\n",
    "except Exception as e:\n",
    "    print(e)\n",
    "    pass\n"
   ]
  },
  {
   "cell_type": "code",
   "execution_count": 23,
   "metadata": {},
   "outputs": [
    {
     "name": "stdout",
     "output_type": "stream",
     "text": [
      "Closing server running on port: 8082\n"
     ]
    }
   ],
   "source": [
    "demo.close()"
   ]
  },
  {
   "cell_type": "code",
   "execution_count": null,
   "metadata": {},
   "outputs": [],
   "source": []
  }
 ],
 "metadata": {
  "kernelspec": {
   "display_name": "Python 3.9.13 ('tf')",
   "language": "python",
   "name": "python3"
  },
  "language_info": {
   "codemirror_mode": {
    "name": "ipython",
    "version": 3
   },
   "file_extension": ".py",
   "mimetype": "text/x-python",
   "name": "python",
   "nbconvert_exporter": "python",
   "pygments_lexer": "ipython3",
   "version": "3.9.13"
  },
  "orig_nbformat": 4,
  "vscode": {
   "interpreter": {
    "hash": "64a1f6578a5146c7e09b91587d6d6ce7db0300aa6841235dfb64e80acde48245"
   }
  }
 },
 "nbformat": 4,
 "nbformat_minor": 2
}
