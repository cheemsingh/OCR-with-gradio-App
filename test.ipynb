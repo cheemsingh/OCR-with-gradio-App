{
 "cells": [
  {
   "cell_type": "markdown",
   "metadata": {},
   "source": [
    "# Importing Libraries"
   ]
  },
  {
   "cell_type": "code",
   "execution_count": null,
   "metadata": {},
   "outputs": [],
   "source": [
    "import gradio as gr\n",
    "from ocr import ocr"
   ]
  },
  {
   "cell_type": "markdown",
   "metadata": {},
   "source": [
    "# Creating Gradio App"
   ]
  },
  {
   "cell_type": "code",
   "execution_count": null,
   "metadata": {},
   "outputs": [],
   "source": [
    "demo = gr.Blocks()"
   ]
  },
  {
   "cell_type": "code",
   "execution_count": null,
   "metadata": {},
   "outputs": [],
   "source": [
    "with demo:\n",
    "    gr.Markdown(\"# OCR Demo\")\n",
    "    with gr.Tabs():\n",
    "        with gr.TabItem(\"Examples\"):\n",
    "            with gr.Row():\n",
    "                rad = gr.components.Radio(\n",
    "                    ['Example 1', 'Example 2'], label='Select Video and wait till it appears!')\n",
    "                img1 = gr.components.Image()\n",
    "                web_bt1 = gr.Button('Submit')\n",
    "        with gr.TabItem(\"Upload\"):\n",
    "            with gr.Row():\n",
    "                img2 = gr.components.Image(source='upload')\n",
    "            web_bt2 = gr.Button('Submit')\n",
    "\n",
    "    def action(choice):\n",
    "        if choice == 'Example 1':\n",
    "            return 'test-images/receipt-1.jpeg'\n",
    "        elif choice == 'Example 2':\n",
    "            return 'test-images/receipt-2.jpeg'\n",
    "    rad.change(action, rad, img1)\n",
    "    op = gr.components.Textbox(label='Output')\n",
    "\n",
    "    def fn(video):\n",
    "        string = ocr(video)\n",
    "        return string\n",
    "\n",
    "    web_bt2.click(fn, inputs=[img2], outputs=op)\n",
    "    web_bt1.click(fn, inputs=[img1], outputs=op)\n"
   ]
  },
  {
   "cell_type": "markdown",
   "metadata": {},
   "source": [
    "# Test Drive"
   ]
  },
  {
   "cell_type": "code",
   "execution_count": null,
   "metadata": {},
   "outputs": [],
   "source": [
    "try:\n",
    "    demo.queue()\n",
    "    demo.launch(inline=False, server_name=\"0.0.0.0\",\n",
    "                server_port=8083, max_threads=100)\n",
    "except Exception as e:\n",
    "    print(e)\n",
    "    pass\n"
   ]
  },
  {
   "cell_type": "markdown",
   "metadata": {},
   "source": [
    "# Deployment on TrueFoundry"
   ]
  },
  {
   "cell_type": "code",
   "execution_count": null,
   "metadata": {},
   "outputs": [],
   "source": [
    "import os\n",
    "os.environ[\"TFY_HOST\"] = \"https://app.truefoundry.tech/\"\n",
    "os.environ[\"TFY_API_KEY\"] = \"<your-api-key>\""
   ]
  },
  {
   "cell_type": "code",
   "execution_count": 2,
   "metadata": {},
   "outputs": [],
   "source": [
    "from servicefoundry import (Build, DockerFileBuild, PythonBuild, Resources,\n",
    "                            Service)"
   ]
  },
  {
   "cell_type": "code",
   "execution_count": null,
   "metadata": {},
   "outputs": [],
   "source": [
    "service = Service(\n",
    "    name=\"ocr-app\",\n",
    "    image=Build(\n",
    "        build_spec=PythonBuild(\n",
    "            command=\"python app.py\",\n",
    "        ),\n",
    "    ),\n",
    "    ports=[{\"port\": 8080}],\n",
    "    resources=Resources(memory_limit=1500, memory_request=1000, cpu_limit=3, cpu_request=2.5),\n",
    ")\n",
    "service.deploy(workspace_fqn=\"tfy-dev-cluster:arsh-dev\")"
   ]
  }
 ],
 "metadata": {
  "kernelspec": {
   "display_name": "lucif3r-venv",
   "language": "python",
   "name": "python3"
  },
  "language_info": {
   "codemirror_mode": {
    "name": "ipython",
    "version": 3
   },
   "file_extension": ".py",
   "mimetype": "text/x-python",
   "name": "python",
   "nbconvert_exporter": "python",
   "pygments_lexer": "ipython3",
   "version": "3.9.13 | packaged by conda-forge | (main, May 27 2022, 17:00:33) \n[Clang 13.0.1 ]"
  },
  "orig_nbformat": 4,
  "vscode": {
   "interpreter": {
    "hash": "7c00a189be404ae5e50b05ba4bfd808850f7228a925ea34e7cb429ce66998dd8"
   }
  }
 },
 "nbformat": 4,
 "nbformat_minor": 2
}
